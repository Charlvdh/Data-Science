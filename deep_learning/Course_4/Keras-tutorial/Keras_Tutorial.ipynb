{
 "cells": [
  {
   "cell_type": "markdown",
   "metadata": {},
   "source": [
    "# Keras tutorial - the Happy House\n",
    "\n",
    "In this notebook we will:\n",
    "\n",
    "1. Learn to use Keras, a high-level neural networks API (programming framework), written in Python and capable of running on top of several lower-level frameworks including TensorFlow and CNTK. \n",
    "2. See how we can build a deep learning algorithm in a couple of hours.\n",
    "\n",
    "Why are we using Keras? Keras was developed to enable deep learning engineers to build and experiment with different models very quickly. Just as TensorFlow is a higher-level framework than Python, Keras is an even higher-level framework and provides additional abstractions. Being able to go from idea to result with the least possible delay is key to finding good models. However, Keras is more restrictive than the lower-level frameworks, so there are some very complex models that you can implement in TensorFlow but not (without more difficulty) in Keras. That being said, Keras will work fine for many common models. \n",
    "\n",
    "Below, we'll work on the \"Happy House\" problem, which is explained below. Let's load the required packages and solve the problem of the Happy House!"
   ]
  },
  {
   "cell_type": "code",
   "execution_count": 1,
   "metadata": {},
   "outputs": [
    {
     "name": "stderr",
     "output_type": "stream",
     "text": [
      "Using TensorFlow backend.\n"
     ]
    }
   ],
   "source": [
    "import numpy as np\n",
    "from keras import layers\n",
    "from keras.layers import Input, Dense, Activation, ZeroPadding2D, BatchNormalization, Flatten, Conv2D\n",
    "from keras.layers import AveragePooling2D, MaxPooling2D, Dropout, GlobalMaxPooling2D, GlobalAveragePooling2D\n",
    "from keras.models import Model\n",
    "from keras.preprocessing import image\n",
    "from keras.utils import layer_utils\n",
    "from keras.utils.data_utils import get_file\n",
    "from keras.applications.imagenet_utils import preprocess_input\n",
    "# import pydot\n",
    "from IPython.display import SVG\n",
    "from keras.utils.vis_utils import model_to_dot\n",
    "from keras.utils import plot_model\n",
    "from kt_utils import *\n",
    "\n",
    "import keras.backend as K\n",
    "K.set_image_data_format('channels_last')\n",
    "import matplotlib.pyplot as plt\n",
    "from matplotlib.pyplot import imshow\n",
    "\n",
    "%matplotlib inline"
   ]
  },
  {
   "cell_type": "markdown",
   "metadata": {},
   "source": [
    "**Note**: As you can see, we've imported a lot of functions from Keras. We can use them easily just by calling them directly in the notebook. Ex: `X = Input(...)` or `X = ZeroPadding2D(...)`."
   ]
  },
  {
   "cell_type": "markdown",
   "metadata": {},
   "source": [
    "## 1 - The Happy House \n",
    "\n",
    "For our next vacation, we decided to spend a week with five of our friends from school. It is a very convenient house with many things to do nearby. But the most important benefit is that everybody has commited to be happy when they are in the house. So anyone wanting to enter the house must prove their current state of happiness.\n",
    "\n",
    "<img src=\"images/happy-house.jpg\" style=\"width:350px;height:270px;\">\n",
    "<caption><center> <u> <font color='purple'> **Figure 1** </u><font color='purple'>  : **the Happy House**</center></caption>\n",
    "\n",
    "\n",
    "As a deep learning expert, to make sure the \"Happy\" rule is strictly applied, we are going to build an algorithm which that uses pictures from the front door camera to check if the person is happy or not. The door should open only if the person is happy. \n",
    "\n",
    "We have gathered pictures of our friends and ourself, taken by the front-door camera. The dataset is labled. \n",
    "\n",
    "<img src=\"images/house-members.png\" style=\"width:550px;height:250px;\">\n",
    "\n",
    "Let's normalize the dataset and learn about its shapes."
   ]
  },
  {
   "cell_type": "code",
   "execution_count": 2,
   "metadata": {},
   "outputs": [
    {
     "name": "stdout",
     "output_type": "stream",
     "text": [
      "number of training examples = 600\n",
      "number of test examples = 150\n",
      "X_train shape: (600, 64, 64, 3)\n",
      "Y_train shape: (600, 1)\n",
      "X_test shape: (150, 64, 64, 3)\n",
      "Y_test shape: (150, 1)\n"
     ]
    }
   ],
   "source": [
    "X_train_orig, Y_train_orig, X_test_orig, Y_test_orig, classes = load_dataset()\n",
    "\n",
    "# Normalize image vectors\n",
    "X_train = X_train_orig/255.\n",
    "X_test = X_test_orig/255.\n",
    "\n",
    "# Reshape\n",
    "Y_train = Y_train_orig.T\n",
    "Y_test = Y_test_orig.T\n",
    "\n",
    "print (\"number of training examples = \" + str(X_train.shape[0]))\n",
    "print (\"number of test examples = \" + str(X_test.shape[0]))\n",
    "print (\"X_train shape: \" + str(X_train.shape))\n",
    "print (\"Y_train shape: \" + str(Y_train.shape))\n",
    "print (\"X_test shape: \" + str(X_test.shape))\n",
    "print (\"Y_test shape: \" + str(Y_test.shape))"
   ]
  },
  {
   "cell_type": "markdown",
   "metadata": {},
   "source": [
    "**Details of the \"Happy\" dataset**:\n",
    "- Images are of shape (64,64,3)\n",
    "- Training: 600 pictures\n",
    "- Test: 150 pictures\n",
    "\n",
    "It is now time to solve the \"Happy\" Challenge."
   ]
  },
  {
   "cell_type": "markdown",
   "metadata": {},
   "source": [
    "## 2 - Building a model in Keras\n",
    "\n",
    "Keras is very good for rapid prototyping. In just a short time we will be able to build a model that achieves outstanding results.\n",
    "\n",
    "Here is an example of a model in Keras:\n",
    "\n",
    "```python\n",
    "def model(input_shape):\n",
    "    # Define the input placeholder as a tensor with shape input_shape. \n",
    "    X_input = Input(input_shape)\n",
    "\n",
    "    # Zero-Padding: pads the border of X_input with zeroes\n",
    "    X = ZeroPadding2D((3, 3))(X_input)\n",
    "\n",
    "    # CONV -> BN -> RELU Block applied to X\n",
    "    X = Conv2D(32, (7, 7), strides = (1, 1), name = 'conv0')(X)\n",
    "    X = BatchNormalization(axis = 3, name = 'bn0')(X)\n",
    "    X = Activation('relu')(X)\n",
    "\n",
    "    # MAXPOOL\n",
    "    X = MaxPooling2D((2, 2), name='max_pool')(X)\n",
    "\n",
    "    # FLATTEN X (means convert it to a vector) + FULLYCONNECTED\n",
    "    X = Flatten()(X)\n",
    "    X = Dense(1, activation='sigmoid', name='fc')(X)\n",
    "\n",
    "    # Create model. This creates the Keras model instance, we'll use this instance to train/test the model.\n",
    "    model = Model(inputs = X_input, outputs = X, name='HappyModel')\n",
    "    \n",
    "    return model\n",
    "```\n",
    "\n",
    "Note that Keras uses a different convention with variable names than we've previously used with numpy and TensorFlow. In particular, rather than creating and assigning a new variable on each step of forward propagation such as `X`, `Z1`, `A1`, `Z2`, `A2`, etc. for the computations for the different layers, in Keras code each line above just reassigns `X` to a new value using `X = ...`. In other words, during each step of forward propagation, we are just writing the latest value in the commputation into the same variable `X`. The only exception was `X_input`, which we kept separate and did not overwrite, since we needed it at the end to create the Keras model instance (`model = Model(inputs = X_input, ...)` above). \n",
    "\n",
    "Let's implement a `HappyModel()`.  "
   ]
  },
  {
   "cell_type": "code",
   "execution_count": 3,
   "metadata": {},
   "outputs": [],
   "source": [
    "def HappyModel(input_shape):\n",
    "    \"\"\"\n",
    "    Implementation of the HappyModel.\n",
    "    \n",
    "    Arguments:\n",
    "    input_shape -- shape of the images of the dataset\n",
    "\n",
    "    Returns:\n",
    "    model -- a Model() instance in Keras\n",
    "    \"\"\"\n",
    "\n",
    "    # Define the input placeholder as a tensor with shape input_shape. \n",
    "    X_input = Input(input_shape)\n",
    "\n",
    "    # Zero-Padding: pads the border of X_input with zeroes\n",
    "    X = ZeroPadding2D((3, 3))(X_input)\n",
    "\n",
    "    # CONV -> BN -> RELU Block applied to X\n",
    "    X = Conv2D(32, (7, 7), strides = (1, 1), name = 'conv0')(X)\n",
    "    X = BatchNormalization(axis = 3, name = 'bn0')(X)\n",
    "    X = Activation('relu')(X)\n",
    "\n",
    "    # MAXPOOL\n",
    "    X = MaxPooling2D((2, 2), name='max_pool')(X)\n",
    "\n",
    "    # FLATTEN X (means convert it to a vector) + FULLYCONNECTED\n",
    "    X = Flatten()(X)\n",
    "    X = Dense(1, activation='sigmoid', name='fc')(X)\n",
    "\n",
    "    # Create model. This creates our Keras model instance.\n",
    "    model = Model(inputs = X_input, outputs = X, name='HappyModel')\n",
    "    \n",
    "    return model"
   ]
  },
  {
   "cell_type": "markdown",
   "metadata": {},
   "source": [
    "We have now built a function to describe our model. To train and test this model, there are four steps in Keras:\n",
    "1. Create the model by calling the function above\n",
    "2. Compile the model by calling `model.compile(optimizer = \"...\", loss = \"...\", metrics = [\"accuracy\"])`\n",
    "3. Train the model on train data by calling `model.fit(x = ..., y = ..., epochs = ..., batch_size = ...)`\n",
    "4. Test the model on test data by calling `model.evaluate(x = ..., y = ...)`\n",
    "\n",
    "More about `model.compile()`, `model.fit()`, `model.evaluate()` and their arguments, can be found in the official [Keras documentation](https://keras.io/models/model/)."
   ]
  },
  {
   "cell_type": "markdown",
   "metadata": {},
   "source": [
    "Step 1, i.e. create the model."
   ]
  },
  {
   "cell_type": "code",
   "execution_count": 4,
   "metadata": {},
   "outputs": [
    {
     "name": "stdout",
     "output_type": "stream",
     "text": [
      "WARNING:tensorflow:From /anaconda3/lib/python3.7/site-packages/tensorflow/python/framework/op_def_library.py:263: colocate_with (from tensorflow.python.framework.ops) is deprecated and will be removed in a future version.\n",
      "Instructions for updating:\n",
      "Colocations handled automatically by placer.\n"
     ]
    }
   ],
   "source": [
    "happyModel = HappyModel((64,64,3))"
   ]
  },
  {
   "cell_type": "markdown",
   "metadata": {},
   "source": [
    "Implement step 2, i.e. compile the model to configure the learning process. "
   ]
  },
  {
   "cell_type": "code",
   "execution_count": 5,
   "metadata": {},
   "outputs": [],
   "source": [
    "happyModel.compile(optimizer = \"adam\",loss = \"binary_crossentropy\",metrics = [\"accuracy\"])"
   ]
  },
  {
   "cell_type": "markdown",
   "metadata": {},
   "source": [
    "Implement step 3, i.e. train the model. Choose the number of epochs and the batch size."
   ]
  },
  {
   "cell_type": "code",
   "execution_count": 6,
   "metadata": {},
   "outputs": [
    {
     "name": "stdout",
     "output_type": "stream",
     "text": [
      "WARNING:tensorflow:From /anaconda3/lib/python3.7/site-packages/tensorflow/python/ops/math_ops.py:3066: to_int32 (from tensorflow.python.ops.math_ops) is deprecated and will be removed in a future version.\n",
      "Instructions for updating:\n",
      "Use tf.cast instead.\n",
      "Epoch 1/40\n",
      "600/600 [==============================] - 7s 11ms/step - loss: 0.9834 - acc: 0.7150\n",
      "Epoch 2/40\n",
      "600/600 [==============================] - 5s 8ms/step - loss: 0.2305 - acc: 0.8950\n",
      "Epoch 3/40\n",
      "600/600 [==============================] - 4s 7ms/step - loss: 0.1349 - acc: 0.9533\n",
      "Epoch 4/40\n",
      "600/600 [==============================] - 4s 7ms/step - loss: 0.1871 - acc: 0.9333\n",
      "Epoch 5/40\n",
      "600/600 [==============================] - 4s 7ms/step - loss: 0.1046 - acc: 0.9617\n",
      "Epoch 6/40\n",
      "600/600 [==============================] - 5s 8ms/step - loss: 0.1046 - acc: 0.9583\n",
      "Epoch 7/40\n",
      "600/600 [==============================] - 4s 7ms/step - loss: 0.0726 - acc: 0.9750\n",
      "Epoch 8/40\n",
      "600/600 [==============================] - 4s 7ms/step - loss: 0.1694 - acc: 0.9300\n",
      "Epoch 9/40\n",
      "600/600 [==============================] - 4s 7ms/step - loss: 0.0709 - acc: 0.9767\n",
      "Epoch 10/40\n",
      "600/600 [==============================] - 5s 8ms/step - loss: 0.0580 - acc: 0.9783\n",
      "Epoch 11/40\n",
      "600/600 [==============================] - 5s 8ms/step - loss: 0.0423 - acc: 0.9850\n",
      "Epoch 12/40\n",
      "600/600 [==============================] - 4s 7ms/step - loss: 0.0543 - acc: 0.9833\n",
      "Epoch 13/40\n",
      "600/600 [==============================] - 4s 7ms/step - loss: 0.0713 - acc: 0.9733\n",
      "Epoch 14/40\n",
      "600/600 [==============================] - 4s 7ms/step - loss: 0.0584 - acc: 0.9800\n",
      "Epoch 15/40\n",
      "600/600 [==============================] - 4s 7ms/step - loss: 0.1118 - acc: 0.9600\n",
      "Epoch 16/40\n",
      "600/600 [==============================] - 5s 8ms/step - loss: 0.3179 - acc: 0.9117\n",
      "Epoch 17/40\n",
      "600/600 [==============================] - 4s 7ms/step - loss: 0.1220 - acc: 0.9550\n",
      "Epoch 18/40\n",
      "600/600 [==============================] - 4s 7ms/step - loss: 0.1467 - acc: 0.9583\n",
      "Epoch 19/40\n",
      "600/600 [==============================] - 4s 7ms/step - loss: 0.1241 - acc: 0.9617\n",
      "Epoch 20/40\n",
      "600/600 [==============================] - 4s 7ms/step - loss: 0.0612 - acc: 0.9750\n",
      "Epoch 21/40\n",
      "600/600 [==============================] - 4s 7ms/step - loss: 0.0431 - acc: 0.9833\n",
      "Epoch 22/40\n",
      "600/600 [==============================] - 4s 7ms/step - loss: 0.0457 - acc: 0.9867\n",
      "Epoch 23/40\n",
      "600/600 [==============================] - 4s 7ms/step - loss: 0.0607 - acc: 0.9833\n",
      "Epoch 24/40\n",
      "600/600 [==============================] - 5s 9ms/step - loss: 0.1269 - acc: 0.9717\n",
      "Epoch 25/40\n",
      "600/600 [==============================] - 5s 9ms/step - loss: 0.1420 - acc: 0.9650\n",
      "Epoch 26/40\n",
      "600/600 [==============================] - 5s 8ms/step - loss: 0.0583 - acc: 0.9800\n",
      "Epoch 27/40\n",
      "600/600 [==============================] - 5s 8ms/step - loss: 0.0198 - acc: 0.9950\n",
      "Epoch 28/40\n",
      "600/600 [==============================] - 4s 7ms/step - loss: 0.0377 - acc: 0.9867\n",
      "Epoch 29/40\n",
      "600/600 [==============================] - 4s 7ms/step - loss: 0.0237 - acc: 0.9900\n",
      "Epoch 30/40\n",
      "600/600 [==============================] - 4s 7ms/step - loss: 0.0318 - acc: 0.9883\n",
      "Epoch 31/40\n",
      "600/600 [==============================] - 5s 8ms/step - loss: 0.0644 - acc: 0.9817\n",
      "Epoch 32/40\n",
      "600/600 [==============================] - 4s 7ms/step - loss: 0.0545 - acc: 0.9833\n",
      "Epoch 33/40\n",
      "600/600 [==============================] - 5s 8ms/step - loss: 0.0380 - acc: 0.9933\n",
      "Epoch 34/40\n",
      "600/600 [==============================] - 5s 9ms/step - loss: 0.0476 - acc: 0.9850\n",
      "Epoch 35/40\n",
      "600/600 [==============================] - 5s 8ms/step - loss: 0.0224 - acc: 0.9933\n",
      "Epoch 36/40\n",
      "600/600 [==============================] - 5s 8ms/step - loss: 0.0282 - acc: 0.9950\n",
      "Epoch 37/40\n",
      "600/600 [==============================] - 4s 7ms/step - loss: 0.0151 - acc: 0.9983\n",
      "Epoch 38/40\n",
      "600/600 [==============================] - 5s 8ms/step - loss: 0.0250 - acc: 0.9900\n",
      "Epoch 39/40\n",
      "600/600 [==============================] - 5s 8ms/step - loss: 0.0236 - acc: 0.9967\n",
      "Epoch 40/40\n",
      "600/600 [==============================] - 4s 7ms/step - loss: 0.0098 - acc: 0.9983\n"
     ]
    },
    {
     "data": {
      "text/plain": [
       "<keras.callbacks.History at 0xb3c43eeb8>"
      ]
     },
     "execution_count": 6,
     "metadata": {},
     "output_type": "execute_result"
    }
   ],
   "source": [
    "happyModel.fit(x = X_train, y = Y_train, epochs =40, batch_size = 16)"
   ]
  },
  {
   "cell_type": "markdown",
   "metadata": {},
   "source": [
    "Note that if we ran `fit()` again, the `model` would continue to train with the parameters it has already learnt instead of reinitializing them."
   ]
  },
  {
   "cell_type": "markdown",
   "metadata": {},
   "source": [
    "Implement step 4, i.e. test/evaluate the model."
   ]
  },
  {
   "cell_type": "code",
   "execution_count": 7,
   "metadata": {
    "scrolled": true
   },
   "outputs": [
    {
     "name": "stdout",
     "output_type": "stream",
     "text": [
      "150/150 [==============================] - 1s 7ms/step\n",
      "\n",
      "Loss = 0.11130234698454539\n",
      "Test Accuracy = 0.9599999976158142\n"
     ]
    }
   ],
   "source": [
    "preds = happyModel.evaluate(x = X_test,y = Y_test)\n",
    "print()\n",
    "print (\"Loss = \" + str(preds[0]))\n",
    "print (\"Test Accuracy = \" + str(preds[1]))"
   ]
  },
  {
   "cell_type": "markdown",
   "metadata": {},
   "source": [
    "Our `happyModel()` function worked, acheiving over 97% accuracy on the test set!."
   ]
  },
  {
   "cell_type": "markdown",
   "metadata": {},
   "source": [
    "## 3 - Conclusion\n",
    "\n",
    "We have solved the Happy House challenge! "
   ]
  },
  {
   "cell_type": "markdown",
   "metadata": {},
   "source": [
    "**Things to remember:**\n",
    "- Keras is a tool we recommend for rapid prototyping. It allows us to quickly try out different model architectures. \n",
    "- The four steps leading to the evaluation of your model on the test set: Create->Compile->Fit/Train->Evaluate/Test."
   ]
  },
  {
   "cell_type": "markdown",
   "metadata": {},
   "source": [
    "## 4 - Testing with an external image\n",
    "    \n",
    "The training/test sets were quite similar; for example, all the pictures were taken against the same background (since a front door camera is always mounted in the same position). This makes the problem easier, but a model trained on this data may or may not work on different data. let's try anyway though.\n",
    "\n",
    "Note that the below keeps crashing the notebook on my local machine for some reason but works on Google Colab."
   ]
  },
  {
   "cell_type": "code",
   "execution_count": 8,
   "metadata": {},
   "outputs": [
    {
     "data": {
      "text/plain": [
       "\"\\nimg_path = 'images/happy.JPG'\\n\\n\\nimg = image.load_img(img_path, target_size=(64, 64))\\nimshow(img)\\n\\nx = image.img_to_array(img)\\nx = np.expand_dims(x, axis=0)\\nx = preprocess_input(x)\\n\\nprint(happyModel.predict(x))\\n\""
      ]
     },
     "execution_count": 8,
     "metadata": {},
     "output_type": "execute_result"
    }
   ],
   "source": [
    "\"\"\"\n",
    "img_path = 'images/happy.JPG'\n",
    "\n",
    "\n",
    "img = image.load_img(img_path, target_size=(64, 64))\n",
    "imshow(img)\n",
    "\n",
    "x = image.img_to_array(img)\n",
    "x = np.expand_dims(x, axis=0)\n",
    "x = preprocess_input(x)\n",
    "\n",
    "print(happyModel.predict(x))\n",
    "\"\"\""
   ]
  },
  {
   "cell_type": "markdown",
   "metadata": {},
   "source": [
    "## 5 - Other useful functions in Keras (Optional)\n",
    "\n",
    "Two other basic features of Keras that are useful are:\n",
    "- `model.summary()`: prints the details of the layers in a table with the sizes of its inputs/outputs\n",
    "- `plot_model()`: plots the graph in a nice layout. This can even be saved as \".png\" using SVG()."
   ]
  },
  {
   "cell_type": "code",
   "execution_count": 9,
   "metadata": {
    "scrolled": false
   },
   "outputs": [
    {
     "name": "stdout",
     "output_type": "stream",
     "text": [
      "_________________________________________________________________\n",
      "Layer (type)                 Output Shape              Param #   \n",
      "=================================================================\n",
      "input_1 (InputLayer)         (None, 64, 64, 3)         0         \n",
      "_________________________________________________________________\n",
      "zero_padding2d_1 (ZeroPaddin (None, 70, 70, 3)         0         \n",
      "_________________________________________________________________\n",
      "conv0 (Conv2D)               (None, 64, 64, 32)        4736      \n",
      "_________________________________________________________________\n",
      "bn0 (BatchNormalization)     (None, 64, 64, 32)        128       \n",
      "_________________________________________________________________\n",
      "activation_1 (Activation)    (None, 64, 64, 32)        0         \n",
      "_________________________________________________________________\n",
      "max_pool (MaxPooling2D)      (None, 32, 32, 32)        0         \n",
      "_________________________________________________________________\n",
      "flatten_1 (Flatten)          (None, 32768)             0         \n",
      "_________________________________________________________________\n",
      "fc (Dense)                   (None, 1)                 32769     \n",
      "=================================================================\n",
      "Total params: 37,633\n",
      "Trainable params: 37,569\n",
      "Non-trainable params: 64\n",
      "_________________________________________________________________\n"
     ]
    }
   ],
   "source": [
    "happyModel.summary()"
   ]
  },
  {
   "cell_type": "code",
   "execution_count": 10,
   "metadata": {},
   "outputs": [
    {
     "data": {
      "image/svg+xml": [
       "<svg height=\"556pt\" viewBox=\"0.00 0.00 226.00 556.00\" width=\"226pt\" xmlns=\"http://www.w3.org/2000/svg\" xmlns:xlink=\"http://www.w3.org/1999/xlink\">\n",
       "<g class=\"graph\" id=\"graph0\" transform=\"scale(1 1) rotate(0) translate(4 552)\">\n",
       "<title>G</title>\n",
       "<polygon fill=\"#ffffff\" points=\"-4,4 -4,-552 222,-552 222,4 -4,4\" stroke=\"transparent\"/>\n",
       "<!-- 48162716080 -->\n",
       "<g class=\"node\" id=\"node1\">\n",
       "<title>48162716080</title>\n",
       "<polygon fill=\"none\" points=\"44.5,-511.5 44.5,-547.5 173.5,-547.5 173.5,-511.5 44.5,-511.5\" stroke=\"#000000\"/>\n",
       "<text fill=\"#000000\" font-family=\"Times,serif\" font-size=\"14.00\" text-anchor=\"middle\" x=\"109\" y=\"-525.8\">input_1: InputLayer</text>\n",
       "</g>\n",
       "<!-- 48162717368 -->\n",
       "<g class=\"node\" id=\"node2\">\n",
       "<title>48162717368</title>\n",
       "<polygon fill=\"none\" points=\"0,-438.5 0,-474.5 218,-474.5 218,-438.5 0,-438.5\" stroke=\"#000000\"/>\n",
       "<text fill=\"#000000\" font-family=\"Times,serif\" font-size=\"14.00\" text-anchor=\"middle\" x=\"109\" y=\"-452.8\">zero_padding2d_1: ZeroPadding2D</text>\n",
       "</g>\n",
       "<!-- 48162716080&#45;&gt;48162717368 -->\n",
       "<g class=\"edge\" id=\"edge1\">\n",
       "<title>48162716080-&gt;48162717368</title>\n",
       "<path d=\"M109,-511.4551C109,-503.3828 109,-493.6764 109,-484.6817\" fill=\"none\" stroke=\"#000000\"/>\n",
       "<polygon fill=\"#000000\" points=\"112.5001,-484.5903 109,-474.5904 105.5001,-484.5904 112.5001,-484.5903\" stroke=\"#000000\"/>\n",
       "</g>\n",
       "<!-- 48162717088 -->\n",
       "<g class=\"node\" id=\"node3\">\n",
       "<title>48162717088</title>\n",
       "<polygon fill=\"none\" points=\"56,-365.5 56,-401.5 162,-401.5 162,-365.5 56,-365.5\" stroke=\"#000000\"/>\n",
       "<text fill=\"#000000\" font-family=\"Times,serif\" font-size=\"14.00\" text-anchor=\"middle\" x=\"109\" y=\"-379.8\">conv0: Conv2D</text>\n",
       "</g>\n",
       "<!-- 48162717368&#45;&gt;48162717088 -->\n",
       "<g class=\"edge\" id=\"edge2\">\n",
       "<title>48162717368-&gt;48162717088</title>\n",
       "<path d=\"M109,-438.4551C109,-430.3828 109,-420.6764 109,-411.6817\" fill=\"none\" stroke=\"#000000\"/>\n",
       "<polygon fill=\"#000000\" points=\"112.5001,-411.5903 109,-401.5904 105.5001,-411.5904 112.5001,-411.5903\" stroke=\"#000000\"/>\n",
       "</g>\n",
       "<!-- 4393440928 -->\n",
       "<g class=\"node\" id=\"node4\">\n",
       "<title>4393440928</title>\n",
       "<polygon fill=\"none\" points=\"30,-292.5 30,-328.5 188,-328.5 188,-292.5 30,-292.5\" stroke=\"#000000\"/>\n",
       "<text fill=\"#000000\" font-family=\"Times,serif\" font-size=\"14.00\" text-anchor=\"middle\" x=\"109\" y=\"-306.8\">bn0: BatchNormalization</text>\n",
       "</g>\n",
       "<!-- 48162717088&#45;&gt;4393440928 -->\n",
       "<g class=\"edge\" id=\"edge3\">\n",
       "<title>48162717088-&gt;4393440928</title>\n",
       "<path d=\"M109,-365.4551C109,-357.3828 109,-347.6764 109,-338.6817\" fill=\"none\" stroke=\"#000000\"/>\n",
       "<polygon fill=\"#000000\" points=\"112.5001,-338.5903 109,-328.5904 105.5001,-338.5904 112.5001,-338.5903\" stroke=\"#000000\"/>\n",
       "</g>\n",
       "<!-- 48150253072 -->\n",
       "<g class=\"node\" id=\"node5\">\n",
       "<title>48150253072</title>\n",
       "<polygon fill=\"none\" points=\"33,-219.5 33,-255.5 185,-255.5 185,-219.5 33,-219.5\" stroke=\"#000000\"/>\n",
       "<text fill=\"#000000\" font-family=\"Times,serif\" font-size=\"14.00\" text-anchor=\"middle\" x=\"109\" y=\"-233.8\">activation_1: Activation</text>\n",
       "</g>\n",
       "<!-- 4393440928&#45;&gt;48150253072 -->\n",
       "<g class=\"edge\" id=\"edge4\">\n",
       "<title>4393440928-&gt;48150253072</title>\n",
       "<path d=\"M109,-292.4551C109,-284.3828 109,-274.6764 109,-265.6817\" fill=\"none\" stroke=\"#000000\"/>\n",
       "<polygon fill=\"#000000\" points=\"112.5001,-265.5903 109,-255.5904 105.5001,-265.5904 112.5001,-265.5903\" stroke=\"#000000\"/>\n",
       "</g>\n",
       "<!-- 48254750672 -->\n",
       "<g class=\"node\" id=\"node6\">\n",
       "<title>48254750672</title>\n",
       "<polygon fill=\"none\" points=\"26,-146.5 26,-182.5 192,-182.5 192,-146.5 26,-146.5\" stroke=\"#000000\"/>\n",
       "<text fill=\"#000000\" font-family=\"Times,serif\" font-size=\"14.00\" text-anchor=\"middle\" x=\"109\" y=\"-160.8\">max_pool: MaxPooling2D</text>\n",
       "</g>\n",
       "<!-- 48150253072&#45;&gt;48254750672 -->\n",
       "<g class=\"edge\" id=\"edge5\">\n",
       "<title>48150253072-&gt;48254750672</title>\n",
       "<path d=\"M109,-219.4551C109,-211.3828 109,-201.6764 109,-192.6817\" fill=\"none\" stroke=\"#000000\"/>\n",
       "<polygon fill=\"#000000\" points=\"112.5001,-192.5903 109,-182.5904 105.5001,-192.5904 112.5001,-192.5903\" stroke=\"#000000\"/>\n",
       "</g>\n",
       "<!-- 48162716808 -->\n",
       "<g class=\"node\" id=\"node7\">\n",
       "<title>48162716808</title>\n",
       "<polygon fill=\"none\" points=\"53,-73.5 53,-109.5 165,-109.5 165,-73.5 53,-73.5\" stroke=\"#000000\"/>\n",
       "<text fill=\"#000000\" font-family=\"Times,serif\" font-size=\"14.00\" text-anchor=\"middle\" x=\"109\" y=\"-87.8\">flatten_1: Flatten</text>\n",
       "</g>\n",
       "<!-- 48254750672&#45;&gt;48162716808 -->\n",
       "<g class=\"edge\" id=\"edge6\">\n",
       "<title>48254750672-&gt;48162716808</title>\n",
       "<path d=\"M109,-146.4551C109,-138.3828 109,-128.6764 109,-119.6817\" fill=\"none\" stroke=\"#000000\"/>\n",
       "<polygon fill=\"#000000\" points=\"112.5001,-119.5903 109,-109.5904 105.5001,-119.5904 112.5001,-119.5903\" stroke=\"#000000\"/>\n",
       "</g>\n",
       "<!-- 48255190128 -->\n",
       "<g class=\"node\" id=\"node8\">\n",
       "<title>48255190128</title>\n",
       "<polygon fill=\"none\" points=\"74,-.5 74,-36.5 144,-36.5 144,-.5 74,-.5\" stroke=\"#000000\"/>\n",
       "<text fill=\"#000000\" font-family=\"Times,serif\" font-size=\"14.00\" text-anchor=\"middle\" x=\"109\" y=\"-14.8\">fc: Dense</text>\n",
       "</g>\n",
       "<!-- 48162716808&#45;&gt;48255190128 -->\n",
       "<g class=\"edge\" id=\"edge7\">\n",
       "<title>48162716808-&gt;48255190128</title>\n",
       "<path d=\"M109,-73.4551C109,-65.3828 109,-55.6764 109,-46.6817\" fill=\"none\" stroke=\"#000000\"/>\n",
       "<polygon fill=\"#000000\" points=\"112.5001,-46.5903 109,-36.5904 105.5001,-46.5904 112.5001,-46.5903\" stroke=\"#000000\"/>\n",
       "</g>\n",
       "</g>\n",
       "</svg>"
      ],
      "text/plain": [
       "<IPython.core.display.SVG object>"
      ]
     },
     "execution_count": 10,
     "metadata": {},
     "output_type": "execute_result"
    }
   ],
   "source": [
    "plot_model(happyModel, to_file='HappyModel.png')\n",
    "SVG(model_to_dot(happyModel).create(prog='dot', format='svg'))"
   ]
  }
 ],
 "metadata": {
  "kernelspec": {
   "display_name": "Python 3",
   "language": "python",
   "name": "python3"
  },
  "language_info": {
   "codemirror_mode": {
    "name": "ipython",
    "version": 3
   },
   "file_extension": ".py",
   "mimetype": "text/x-python",
   "name": "python",
   "nbconvert_exporter": "python",
   "pygments_lexer": "ipython3",
   "version": "3.7.1"
  }
 },
 "nbformat": 4,
 "nbformat_minor": 2
}
